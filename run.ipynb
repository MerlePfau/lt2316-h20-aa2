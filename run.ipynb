{
 "cells": [
  {
   "cell_type": "code",
   "execution_count": 1,
   "metadata": {},
   "outputs": [],
   "source": [
    "# aa1 stuff\n",
    "from aa1 import DataLoader\n",
    "from aa1 import extract_features\n",
    "from aa1 import check_output\n",
    "\n",
    "from aa2 import Trainer\n",
    "from aa2 import parallel_coordinates\n",
    "from aa2.model import LSTM_fixed_len as model"
   ]
  },
  {
   "cell_type": "code",
   "execution_count": 2,
   "metadata": {},
   "outputs": [],
   "source": [
    "import torch\n",
    "\n",
    "device = torch.device('cuda:3')"
   ]
  },
  {
   "cell_type": "code",
   "execution_count": 3,
   "metadata": {},
   "outputs": [],
   "source": [
    "# assigment 1 stuff\n",
    "dataset = DataLoader(data_dir=\"../../DDICorpus/DDICorpus/\", device=device)\n",
    "train_y, val_y, test_y = check_output(dataset.get_y()) \n",
    "train_X, val_X, test_X = check_output(extract_features(\n",
    "                                                        data=dataset.data_df,\n",
    "                                                        max_sample_length=dataset.max_sample_length,\n",
    "                                                        id2word=dataset.id2word,\n",
    "                                                        device=device\n",
    "                                                        #Add any addtional arguments here\n",
    "                                                       ))"
   ]
  },
  {
   "cell_type": "code",
   "execution_count": 4,
   "metadata": {},
   "outputs": [],
   "source": [
    "#set up trainer\n",
    "model_dump = \"/tmp/aa2_models/\" #you are allowed to change the dump_folder\n",
    "trainer = Trainer(dump_folder=model_dump) "
   ]
  },
  {
   "cell_type": "code",
   "execution_count": 5,
   "metadata": {},
   "outputs": [],
   "source": [
    "# define a set of hyperparamaters\n",
    "# test at least 5 different sets of hyperparamaters \n",
    "set_hyperparamaters = [{\"learning_rate\": 0.1,\n",
    "                        \"hidden_size\": 1000,\n",
    "                        \"number_layers\": 3,\n",
    "                        \"optimizer\": \"adam\",\n",
    "                        \"batch_size\": 25,\n",
    "                        \"bidirectional\": 1\n",
    "                       },\n",
    "                       {\"learning_rate\": 0.02,\n",
    "                        \"hidden_size\": 100,\n",
    "                        \"number_layers\": 5,\n",
    "                        \"optimizer\": \"adam\",\n",
    "                        \"batch_size\": 50,\n",
    "                        \"bidirectional\": 1\n",
    "                       }\n",
    "                        ]"
   ]
  },
  {
   "cell_type": "code",
   "execution_count": 6,
   "metadata": {},
   "outputs": [
    {
     "name": "stdout",
     "output_type": "stream",
     "text": [
      "Total loss in epoch 0 is 80.79725646972656.\n",
      "Total loss in epoch 1 is 80.79725646972656.\n",
      "Total loss in epoch 2 is 80.79725646972656.\n",
      "Total loss in epoch 3 is 80.79725646972656.\n",
      "Total loss in epoch 4 is 80.79725646972656.\n",
      "Total loss in epoch 5 is 80.79725646972656.\n",
      "Total loss in epoch 6 is 80.79725646972656.\n",
      "Total loss in epoch 7 is 80.79725646972656.\n",
      "Total loss in epoch 8 is 80.79725646972656.\n",
      "Total loss in epoch 9 is 80.79725646972656.\n",
      "Total loss in epoch 10 is 80.79725646972656.\n",
      "Total loss in epoch 11 is 80.79725646972656.\n",
      "Total loss in epoch 12 is 80.79725646972656.\n",
      "Total loss in epoch 13 is 80.79725646972656.\n",
      "Total loss in epoch 14 is 80.79725646972656.\n",
      "Total loss in epoch 15 is 80.79725646972656.\n",
      "Total loss in epoch 16 is 80.79725646972656.\n",
      "Total loss in epoch 17 is 80.79725646972656.\n",
      "Total loss in epoch 18 is 80.79725646972656.\n",
      "Total loss in epoch 19 is 80.79725646972656.\n",
      "Total loss in epoch 20 is 80.79725646972656.\n",
      "Total loss in epoch 21 is 80.79725646972656.\n",
      "Total loss in epoch 22 is 80.79725646972656.\n",
      "Total loss in epoch 23 is 80.79725646972656.\n",
      "Total loss in epoch 24 is 80.79725646972656.\n",
      "Total loss in epoch 25 is 80.79725646972656.\n",
      "Total loss in epoch 26 is 80.79725646972656.\n",
      "Total loss in epoch 27 is 80.79725646972656.\n",
      "Total loss in epoch 28 is 80.79725646972656.\n",
      "Total loss in epoch 29 is 80.79725646972656.\n",
      "Total loss in epoch 30 is 80.79725646972656.\n",
      "Total loss in epoch 31 is 80.79725646972656.\n",
      "Total loss in epoch 32 is 80.79725646972656.\n",
      "Total loss in epoch 33 is 80.79725646972656.\n",
      "Total loss in epoch 34 is 80.79725646972656.\n",
      "Total loss in epoch 35 is 80.79725646972656.\n",
      "Total loss in epoch 36 is 80.79725646972656.\n",
      "Total loss in epoch 37 is 80.79725646972656.\n",
      "Total loss in epoch 38 is 80.79725646972656.\n",
      "Total loss in epoch 39 is 80.79725646972656.\n",
      "Total loss in epoch 40 is 80.79725646972656.\n",
      "Total loss in epoch 41 is 80.79725646972656.\n",
      "Total loss in epoch 42 is 80.79725646972656.\n",
      "Total loss in epoch 43 is 80.79725646972656.\n",
      "Total loss in epoch 44 is 80.79725646972656.\n",
      "Total loss in epoch 45 is 80.79725646972656.\n",
      "Total loss in epoch 46 is 80.79725646972656.\n",
      "Total loss in epoch 47 is 80.79725646972656.\n",
      "Total loss in epoch 48 is 80.79725646972656.\n",
      "Total loss in epoch 49 is 80.79725646972656.\n",
      "Total loss in epoch 0 is 3.7944283485412598.\n",
      "Total loss in epoch 1 is 3.7944283485412598.\n",
      "Total loss in epoch 2 is 3.7944283485412598.\n",
      "Total loss in epoch 3 is 3.7944283485412598.\n",
      "Total loss in epoch 4 is 3.7944283485412598.\n",
      "Total loss in epoch 5 is 3.7944283485412598.\n",
      "Total loss in epoch 6 is 3.7944283485412598.\n",
      "Total loss in epoch 7 is 3.7944283485412598.\n",
      "Total loss in epoch 8 is 3.7944283485412598.\n",
      "Total loss in epoch 9 is 3.7944283485412598.\n",
      "Total loss in epoch 10 is 3.7944283485412598.\n",
      "Total loss in epoch 11 is 3.7944283485412598.\n",
      "Total loss in epoch 12 is 3.7944283485412598.\n",
      "Total loss in epoch 13 is 3.7944283485412598.\n",
      "Total loss in epoch 14 is 3.7944283485412598.\n",
      "Total loss in epoch 15 is 3.7944283485412598.\n",
      "Total loss in epoch 16 is 3.7944283485412598.\n",
      "Total loss in epoch 17 is 3.7944283485412598.\n",
      "Total loss in epoch 18 is 3.7944283485412598.\n",
      "Total loss in epoch 19 is 3.7944283485412598.\n",
      "Total loss in epoch 20 is 3.7944283485412598.\n",
      "Total loss in epoch 21 is 3.7944283485412598.\n",
      "Total loss in epoch 22 is 3.7944283485412598.\n",
      "Total loss in epoch 23 is 3.7944283485412598.\n",
      "Total loss in epoch 24 is 3.7944283485412598.\n",
      "Total loss in epoch 25 is 3.7944283485412598.\n",
      "Total loss in epoch 26 is 3.7944283485412598.\n",
      "Total loss in epoch 27 is 3.7944283485412598.\n",
      "Total loss in epoch 28 is 3.7944283485412598.\n",
      "Total loss in epoch 29 is 3.7944283485412598.\n",
      "Total loss in epoch 30 is 3.7944283485412598.\n",
      "Total loss in epoch 31 is 3.7944283485412598.\n",
      "Total loss in epoch 32 is 3.7944283485412598.\n",
      "Total loss in epoch 33 is 3.7944283485412598.\n",
      "Total loss in epoch 34 is 3.7944283485412598.\n",
      "Total loss in epoch 35 is 3.7944283485412598.\n",
      "Total loss in epoch 36 is 3.7944283485412598.\n",
      "Total loss in epoch 37 is 3.7944283485412598.\n",
      "Total loss in epoch 38 is 3.7944283485412598.\n",
      "Total loss in epoch 39 is 3.7944283485412598.\n",
      "Total loss in epoch 40 is 3.7944283485412598.\n",
      "Total loss in epoch 41 is 3.7944283485412598.\n",
      "Total loss in epoch 42 is 3.7944283485412598.\n",
      "Total loss in epoch 43 is 3.7944283485412598.\n",
      "Total loss in epoch 44 is 3.7944283485412598.\n",
      "Total loss in epoch 45 is 3.7944283485412598.\n",
      "Total loss in epoch 46 is 3.7944283485412598.\n",
      "Total loss in epoch 47 is 3.7944283485412598.\n",
      "Total loss in epoch 48 is 3.7944283485412598.\n",
      "Total loss in epoch 49 is 3.7944283485412598.\n"
     ]
    }
   ],
   "source": [
    "# hyperparamater tuning\n",
    "# train you model with your set of hyperparamaters\n",
    "for hp in set_hyperparamaters:\n",
    "    trainer.train(train_X, train_y, val_X, val_y, model, hp)"
   ]
  },
  {
   "cell_type": "code",
   "execution_count": 7,
   "metadata": {},
   "outputs": [
    {
     "name": "stdout",
     "output_type": "stream",
     "text": [
      "models found: []\n"
     ]
    },
    {
     "ename": "KeyError",
     "evalue": "'loss'",
     "output_type": "error",
     "traceback": [
      "\u001b[0;31m---------------------------------------------------------------------------\u001b[0m",
      "\u001b[0;31mKeyError\u001b[0m                                  Traceback (most recent call last)",
      "\u001b[0;32m/usr/local/lib64/python3.7/site-packages/pandas/core/indexes/base.py\u001b[0m in \u001b[0;36mget_loc\u001b[0;34m(self, key, method, tolerance)\u001b[0m\n\u001b[1;32m   2889\u001b[0m             \u001b[0;32mtry\u001b[0m\u001b[0;34m:\u001b[0m\u001b[0;34m\u001b[0m\u001b[0;34m\u001b[0m\u001b[0m\n\u001b[0;32m-> 2890\u001b[0;31m                 \u001b[0;32mreturn\u001b[0m \u001b[0mself\u001b[0m\u001b[0;34m.\u001b[0m\u001b[0m_engine\u001b[0m\u001b[0;34m.\u001b[0m\u001b[0mget_loc\u001b[0m\u001b[0;34m(\u001b[0m\u001b[0mkey\u001b[0m\u001b[0;34m)\u001b[0m\u001b[0;34m\u001b[0m\u001b[0;34m\u001b[0m\u001b[0m\n\u001b[0m\u001b[1;32m   2891\u001b[0m             \u001b[0;32mexcept\u001b[0m \u001b[0mKeyError\u001b[0m\u001b[0;34m:\u001b[0m\u001b[0;34m\u001b[0m\u001b[0;34m\u001b[0m\u001b[0m\n",
      "\u001b[0;32mpandas/_libs/index.pyx\u001b[0m in \u001b[0;36mpandas._libs.index.IndexEngine.get_loc\u001b[0;34m()\u001b[0m\n",
      "\u001b[0;32mpandas/_libs/index.pyx\u001b[0m in \u001b[0;36mpandas._libs.index.IndexEngine.get_loc\u001b[0;34m()\u001b[0m\n",
      "\u001b[0;32mpandas/_libs/hashtable_class_helper.pxi\u001b[0m in \u001b[0;36mpandas._libs.hashtable.PyObjectHashTable.get_item\u001b[0;34m()\u001b[0m\n",
      "\u001b[0;32mpandas/_libs/hashtable_class_helper.pxi\u001b[0m in \u001b[0;36mpandas._libs.hashtable.PyObjectHashTable.get_item\u001b[0;34m()\u001b[0m\n",
      "\u001b[0;31mKeyError\u001b[0m: 'loss'",
      "\nDuring handling of the above exception, another exception occurred:\n",
      "\u001b[0;31mKeyError\u001b[0m                                  Traceback (most recent call last)",
      "\u001b[0;32m<ipython-input-7-e8f2a455a738>\u001b[0m in \u001b[0;36m<module>\u001b[0;34m\u001b[0m\n\u001b[1;32m      1\u001b[0m \u001b[0;31m# create a parallel coordination plot over hyperparamaters\u001b[0m\u001b[0;34m\u001b[0m\u001b[0;34m\u001b[0m\u001b[0;34m\u001b[0m\u001b[0m\n\u001b[1;32m      2\u001b[0m \u001b[0;31m# add path to models and change metric to what ever metric you have chosen to use/want to use\u001b[0m\u001b[0;34m\u001b[0m\u001b[0;34m\u001b[0m\u001b[0;34m\u001b[0m\u001b[0m\n\u001b[0;32m----> 3\u001b[0;31m \u001b[0mparallel_coordinates\u001b[0m\u001b[0;34m(\u001b[0m\u001b[0mmodel_dump\u001b[0m\u001b[0;34m,\u001b[0m \u001b[0mmetric\u001b[0m\u001b[0;34m=\u001b[0m\u001b[0;34m\"loss\"\u001b[0m\u001b[0;34m)\u001b[0m\u001b[0;34m\u001b[0m\u001b[0;34m\u001b[0m\u001b[0m\n\u001b[0m",
      "\u001b[0;32m~/ML/A2/lt2316-h20-aa2/aa2/visuals.py\u001b[0m in \u001b[0;36mparallel_coordinates\u001b[0;34m(save_dir, metric)\u001b[0m\n\u001b[1;32m     60\u001b[0m     fig = go.Figure(data=go.Parcoords(\n\u001b[1;32m     61\u001b[0m                                         line = dict(\n\u001b[0;32m---> 62\u001b[0;31m                                                     \u001b[0mcolor\u001b[0m \u001b[0;34m=\u001b[0m \u001b[0mdf\u001b[0m\u001b[0;34m[\u001b[0m\u001b[0mmetric\u001b[0m\u001b[0;34m]\u001b[0m\u001b[0;34m,\u001b[0m\u001b[0;34m\u001b[0m\u001b[0;34m\u001b[0m\u001b[0m\n\u001b[0m\u001b[1;32m     63\u001b[0m                                                     \u001b[0mcolorscale\u001b[0m \u001b[0;34m=\u001b[0m \u001b[0;34m'Electric'\u001b[0m\u001b[0;34m,\u001b[0m\u001b[0;34m\u001b[0m\u001b[0;34m\u001b[0m\u001b[0m\n\u001b[1;32m     64\u001b[0m                                                     \u001b[0mshowscale\u001b[0m \u001b[0;34m=\u001b[0m \u001b[0;32mTrue\u001b[0m\u001b[0;34m,\u001b[0m\u001b[0;34m\u001b[0m\u001b[0;34m\u001b[0m\u001b[0m\n",
      "\u001b[0;32m/usr/local/lib64/python3.7/site-packages/pandas/core/frame.py\u001b[0m in \u001b[0;36m__getitem__\u001b[0;34m(self, key)\u001b[0m\n\u001b[1;32m   2973\u001b[0m             \u001b[0;32mif\u001b[0m \u001b[0mself\u001b[0m\u001b[0;34m.\u001b[0m\u001b[0mcolumns\u001b[0m\u001b[0;34m.\u001b[0m\u001b[0mnlevels\u001b[0m \u001b[0;34m>\u001b[0m \u001b[0;36m1\u001b[0m\u001b[0;34m:\u001b[0m\u001b[0;34m\u001b[0m\u001b[0;34m\u001b[0m\u001b[0m\n\u001b[1;32m   2974\u001b[0m                 \u001b[0;32mreturn\u001b[0m \u001b[0mself\u001b[0m\u001b[0;34m.\u001b[0m\u001b[0m_getitem_multilevel\u001b[0m\u001b[0;34m(\u001b[0m\u001b[0mkey\u001b[0m\u001b[0;34m)\u001b[0m\u001b[0;34m\u001b[0m\u001b[0;34m\u001b[0m\u001b[0m\n\u001b[0;32m-> 2975\u001b[0;31m             \u001b[0mindexer\u001b[0m \u001b[0;34m=\u001b[0m \u001b[0mself\u001b[0m\u001b[0;34m.\u001b[0m\u001b[0mcolumns\u001b[0m\u001b[0;34m.\u001b[0m\u001b[0mget_loc\u001b[0m\u001b[0;34m(\u001b[0m\u001b[0mkey\u001b[0m\u001b[0;34m)\u001b[0m\u001b[0;34m\u001b[0m\u001b[0;34m\u001b[0m\u001b[0m\n\u001b[0m\u001b[1;32m   2976\u001b[0m             \u001b[0;32mif\u001b[0m \u001b[0mis_integer\u001b[0m\u001b[0;34m(\u001b[0m\u001b[0mindexer\u001b[0m\u001b[0;34m)\u001b[0m\u001b[0;34m:\u001b[0m\u001b[0;34m\u001b[0m\u001b[0;34m\u001b[0m\u001b[0m\n\u001b[1;32m   2977\u001b[0m                 \u001b[0mindexer\u001b[0m \u001b[0;34m=\u001b[0m \u001b[0;34m[\u001b[0m\u001b[0mindexer\u001b[0m\u001b[0;34m]\u001b[0m\u001b[0;34m\u001b[0m\u001b[0;34m\u001b[0m\u001b[0m\n",
      "\u001b[0;32m/usr/local/lib64/python3.7/site-packages/pandas/core/indexes/base.py\u001b[0m in \u001b[0;36mget_loc\u001b[0;34m(self, key, method, tolerance)\u001b[0m\n\u001b[1;32m   2890\u001b[0m                 \u001b[0;32mreturn\u001b[0m \u001b[0mself\u001b[0m\u001b[0;34m.\u001b[0m\u001b[0m_engine\u001b[0m\u001b[0;34m.\u001b[0m\u001b[0mget_loc\u001b[0m\u001b[0;34m(\u001b[0m\u001b[0mkey\u001b[0m\u001b[0;34m)\u001b[0m\u001b[0;34m\u001b[0m\u001b[0;34m\u001b[0m\u001b[0m\n\u001b[1;32m   2891\u001b[0m             \u001b[0;32mexcept\u001b[0m \u001b[0mKeyError\u001b[0m\u001b[0;34m:\u001b[0m\u001b[0;34m\u001b[0m\u001b[0;34m\u001b[0m\u001b[0m\n\u001b[0;32m-> 2892\u001b[0;31m                 \u001b[0;32mreturn\u001b[0m \u001b[0mself\u001b[0m\u001b[0;34m.\u001b[0m\u001b[0m_engine\u001b[0m\u001b[0;34m.\u001b[0m\u001b[0mget_loc\u001b[0m\u001b[0;34m(\u001b[0m\u001b[0mself\u001b[0m\u001b[0;34m.\u001b[0m\u001b[0m_maybe_cast_indexer\u001b[0m\u001b[0;34m(\u001b[0m\u001b[0mkey\u001b[0m\u001b[0;34m)\u001b[0m\u001b[0;34m)\u001b[0m\u001b[0;34m\u001b[0m\u001b[0;34m\u001b[0m\u001b[0m\n\u001b[0m\u001b[1;32m   2893\u001b[0m         \u001b[0mindexer\u001b[0m \u001b[0;34m=\u001b[0m \u001b[0mself\u001b[0m\u001b[0;34m.\u001b[0m\u001b[0mget_indexer\u001b[0m\u001b[0;34m(\u001b[0m\u001b[0;34m[\u001b[0m\u001b[0mkey\u001b[0m\u001b[0;34m]\u001b[0m\u001b[0;34m,\u001b[0m \u001b[0mmethod\u001b[0m\u001b[0;34m=\u001b[0m\u001b[0mmethod\u001b[0m\u001b[0;34m,\u001b[0m \u001b[0mtolerance\u001b[0m\u001b[0;34m=\u001b[0m\u001b[0mtolerance\u001b[0m\u001b[0;34m)\u001b[0m\u001b[0;34m\u001b[0m\u001b[0;34m\u001b[0m\u001b[0m\n\u001b[1;32m   2894\u001b[0m         \u001b[0;32mif\u001b[0m \u001b[0mindexer\u001b[0m\u001b[0;34m.\u001b[0m\u001b[0mndim\u001b[0m \u001b[0;34m>\u001b[0m \u001b[0;36m1\u001b[0m \u001b[0;32mor\u001b[0m \u001b[0mindexer\u001b[0m\u001b[0;34m.\u001b[0m\u001b[0msize\u001b[0m \u001b[0;34m>\u001b[0m \u001b[0;36m1\u001b[0m\u001b[0;34m:\u001b[0m\u001b[0;34m\u001b[0m\u001b[0;34m\u001b[0m\u001b[0m\n",
      "\u001b[0;32mpandas/_libs/index.pyx\u001b[0m in \u001b[0;36mpandas._libs.index.IndexEngine.get_loc\u001b[0;34m()\u001b[0m\n",
      "\u001b[0;32mpandas/_libs/index.pyx\u001b[0m in \u001b[0;36mpandas._libs.index.IndexEngine.get_loc\u001b[0;34m()\u001b[0m\n",
      "\u001b[0;32mpandas/_libs/hashtable_class_helper.pxi\u001b[0m in \u001b[0;36mpandas._libs.hashtable.PyObjectHashTable.get_item\u001b[0;34m()\u001b[0m\n",
      "\u001b[0;32mpandas/_libs/hashtable_class_helper.pxi\u001b[0m in \u001b[0;36mpandas._libs.hashtable.PyObjectHashTable.get_item\u001b[0;34m()\u001b[0m\n",
      "\u001b[0;31mKeyError\u001b[0m: 'loss'"
     ]
    }
   ],
   "source": [
    "# create a parallel coordination plot over hyperparamaters\n",
    "# add path to models and change metric to what ever metric you have chosen to use/want to use\n",
    "parallel_coordinates(model_dump, metric=\"loss\")"
   ]
  },
  {
   "cell_type": "code",
   "execution_count": null,
   "metadata": {},
   "outputs": [],
   "source": [
    "# Based on the Parallel Coordination plot define 3 new hyperparamaters set thay you \n",
    "# think are worth testing\n",
    "set_hyperparamaters_2 = [\n",
    "                        # Example:\n",
    "                        # {\n",
    "                        #   \"learning_rate\": 0.1,\n",
    "                        #   \"number_layers\": 3,\n",
    "                        #   \"optimizer\": \"adam\"\n",
    "                        # }\n",
    "                        ]"
   ]
  },
  {
   "cell_type": "code",
   "execution_count": null,
   "metadata": {},
   "outputs": [],
   "source": [
    "# train models for the new hyperparamaters\n",
    "for hp in set_hyperparamaters_2:\n",
    "    trainer.train(train_X, train_y, val_X, val_y, YOUR_MODEL_CLASS, hp)"
   ]
  },
  {
   "cell_type": "code",
   "execution_count": null,
   "metadata": {},
   "outputs": [],
   "source": [
    "# create a parallel coordination plot over hyperparamaters again\n",
    "parallel_coordinates(model_dump, metric=\"loss\")"
   ]
  },
  {
   "cell_type": "code",
   "execution_count": null,
   "metadata": {},
   "outputs": [],
   "source": [
    "#choose the best model base on the last parallel coordination plot\n",
    "best_model_path = \"PATH TO THE BEST MODEL\"\n",
    "scores = trainer.test(test_X, test_y, YOUR_MODEL_CLASS, best_model_path)"
   ]
  }
 ],
 "metadata": {
  "kernelspec": {
   "display_name": "Python 3",
   "language": "python",
   "name": "python3"
  },
  "language_info": {
   "codemirror_mode": {
    "name": "ipython",
    "version": 3
   },
   "file_extension": ".py",
   "mimetype": "text/x-python",
   "name": "python",
   "nbconvert_exporter": "python",
   "pygments_lexer": "ipython3",
   "version": "3.7.4"
  }
 },
 "nbformat": 4,
 "nbformat_minor": 2
}
